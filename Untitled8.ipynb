{
 "cells": [
  {
   "cell_type": "markdown",
   "id": "d5ba7d34",
   "metadata": {},
   "source": [
    "#Write a Python program to get the Fibonacci series between 0 to 50"
   ]
  },
  {
   "cell_type": "code",
   "execution_count": 2,
   "id": "4e7f8a8b",
   "metadata": {},
   "outputs": [],
   "source": [
    "x,y=0,1"
   ]
  },
  {
   "cell_type": "code",
   "execution_count": 4,
   "id": "27a14b5d",
   "metadata": {},
   "outputs": [
    {
     "name": "stdout",
     "output_type": "stream",
     "text": [
      "1\n",
      "1\n",
      "2\n",
      "3\n",
      "5\n",
      "8\n",
      "13\n",
      "21\n",
      "34\n"
     ]
    }
   ],
   "source": [
    "while y<50:\n",
    "    print(y)\n",
    "    x,y=y,x+y"
   ]
  },
  {
   "cell_type": "code",
   "execution_count": null,
   "id": "5c8cc5f2",
   "metadata": {},
   "outputs": [],
   "source": []
  }
 ],
 "metadata": {
  "kernelspec": {
   "display_name": "Python 3 (ipykernel)",
   "language": "python",
   "name": "python3"
  },
  "language_info": {
   "codemirror_mode": {
    "name": "ipython",
    "version": 3
   },
   "file_extension": ".py",
   "mimetype": "text/x-python",
   "name": "python",
   "nbconvert_exporter": "python",
   "pygments_lexer": "ipython3",
   "version": "3.7.3"
  }
 },
 "nbformat": 4,
 "nbformat_minor": 5
}
